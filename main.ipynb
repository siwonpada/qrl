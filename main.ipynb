{
 "cells": [
  {
   "cell_type": "code",
   "execution_count": 1,
   "metadata": {},
   "outputs": [],
   "source": [
    "import gymnasium as gym\n",
    "import pennylane as qml\n",
    "import numpy as np\n",
    "import torch\n",
    "import random\n",
    "import matplotlib.pyplot as plt\n",
    "from collections import deque, namedtuple\n",
    "\n",
    "\n",
    "# Environment\n",
    "env = gym.make(\"CartPole-v1\")\n",
    "\n",
    "N_QUBITS = 4\n",
    "dev = qml.device(\"default.qubit\", wires=N_QUBITS)"
   ]
  },
  {
   "cell_type": "code",
   "execution_count": 4,
   "metadata": {},
   "outputs": [],
   "source": [
    "Transition = namedtuple('Transition', ('state', 'action', 'next_state', 'reward'))\n",
    "\n",
    "class ReplayMemory(object):\n",
    "    def __init__(self, capacity):\n",
    "        self.memory = deque([], maxlen=capacity)\n",
    "\n",
    "    def push(self, *args):\n",
    "        \"\"\"Saves a transition.\"\"\"\n",
    "        self.memory.append(Transition(*args)) \n",
    "\n",
    "    def sample(self, batch_size):\n",
    "        return random.sample(self.memory, batch_size)\n",
    "    \n",
    "    def __len__(self):\n",
    "        return len(self.memory)"
   ]
  },
  {
   "cell_type": "code",
   "execution_count": 6,
   "metadata": {},
   "outputs": [],
   "source": [
    "# Classical Critic -> Classical NN\n",
    "class V(torch.nn.Module):\n",
    "    def __init__(self):\n",
    "        super().__init__()\n",
    "        self.fc1 = torch.nn.Linear(4, 256)\n",
    "        self.fc_v = torch.nn.Linear(256, 1)\n",
    "\n",
    "    def forward(self, x):\n",
    "        x = torch.relu(self.fc1(x))\n",
    "        v = self.fc_v(x)\n",
    "        return v"
   ]
  },
  {
   "cell_type": "code",
   "execution_count": 7,
   "metadata": {},
   "outputs": [],
   "source": [
    "# Parameterized Rotation Layer\n",
    "def layer(W):\n",
    "    for i in range(N_QUBITS):\n",
    "        qml.RX(W[i, 0], wires=i)\n",
    "        qml.RY(W[i, 1], wires=i)\n",
    "        qml.RZ(W[i, 2], wires=i)\n",
    "\n",
    "\n",
    "# Quantum Circuit\n",
    "@qml.qnode(dev, interface=\"torch\")\n",
    "def circuit(W, s):\n",
    "    # W: Layer Variable Parameters, s: State Variable\n",
    "\n",
    "    # Input Encoding\n",
    "    for i in range(N_QUBITS):\n",
    "        qml.RY(np.pi * s[i], wires=i)\n",
    "\n",
    "    # VQC\n",
    "    layer(W[0])\n",
    "    for i in range(N_QUBITS - 1):\n",
    "        qml.CNOT(wires=[i, i + 1])\n",
    "    layer(W[1])\n",
    "    for i in range(N_QUBITS - 1):\n",
    "        qml.CNOT(wires=[i, i + 1])\n",
    "    layer(W[2])\n",
    "    for i in range(N_QUBITS - 1):\n",
    "        qml.CNOT(wires=[i, i + 1])\n",
    "    layer(W[3])\n",
    "    qml.CNOT(wires=[0, 2])\n",
    "    qml.CNOT(wires=[1, 3])\n",
    "    return [qml.expval(qml.PauliY(i)) for i in range(N_QUBITS)]"
   ]
  },
  {
   "cell_type": "code",
   "execution_count": null,
   "metadata": {},
   "outputs": [],
   "source": [
    "MEMORY_CAPACITY = 10000\n",
    "EPS_START = 0.9\n",
    "EPS_END = 0.05\n",
    "EPS_DECAY = 1000\n",
    "\n",
    "D = ReplayMemory(MEMORY_CAPACITY)\n",
    "W = torch.autograd.Variable(torch.DoubleTensor(4, N_QUBITS, 3), requires_grad=True)\n",
    "v = V()\n",
    "circuit_pi = circuit\n",
    "optimizer1 = torch.optim.Adam([W], lr=1e-3)\n",
    "optimizer2 = torch.optim.Adam(v.parameters(), lr=1e-5)"
   ]
  },
  {
   "cell_type": "code",
   "execution_count": null,
   "metadata": {},
   "outputs": [],
   "source": [
    "def select_action(state):\n",
    "    global stops_done\n",
    "    sample = random.random()\n",
    "    eps_threshold = EPS_END + (EPS_START - EPS_END) * np.exp(-1. * stops_done / EPS_DECAY)\n",
    "    stops_done += 1\n",
    "    if sample > eps_threshold:\n",
    "        with torch.no_grad():\n",
    "            return v(state).max(1)[1].indices.view(1,1)\n",
    "    else:\n",
    "        return torch.tensor([[env.action_space.sample()]], dtype=torch.long)"
   ]
  }
 ],
 "metadata": {
  "kernelspec": {
   "display_name": ".venv (3.12.9)",
   "language": "python",
   "name": "python3"
  },
  "language_info": {
   "codemirror_mode": {
    "name": "ipython",
    "version": 3
   },
   "file_extension": ".py",
   "mimetype": "text/x-python",
   "name": "python",
   "nbconvert_exporter": "python",
   "pygments_lexer": "ipython3",
   "version": "3.12.9"
  }
 },
 "nbformat": 4,
 "nbformat_minor": 2
}
